{
  "cells": [
    {
      "cell_type": "code",
      "execution_count": 167,
      "metadata": {
        "colab": {
          "base_uri": "https://localhost:8080/"
        },
        "id": "eSUa7kMe8wjw",
        "outputId": "655ddf7e-7226-4f05-eee4-67ae8e23d370"
      },
      "outputs": [],
      "source": [
        "# %pip install scikit-learn"
      ]
    },
    {
      "cell_type": "code",
      "execution_count": 168,
      "metadata": {
        "id": "4ZYIznsl_M81"
      },
      "outputs": [],
      "source": [
        "import numpy as np\n",
        "from sklearn.preprocessing import RobustScaler, OneHotEncoder\n",
        "import pickle as pk\n",
        "import pandas as pd\n",
        "from tensorflow import keras\n",
        "import scipy\n",
        "np.random.seed(0)"
      ]
    },
    {
      "cell_type": "code",
      "execution_count": 169,
      "metadata": {
        "colab": {
          "base_uri": "https://localhost:8080/"
        },
        "id": "FalYIEyx_Pa6",
        "outputId": "1e8af98e-7e16-4f52-b318-75a8b37ae817"
      },
      "outputs": [
        {
          "data": {
            "text/plain": [
              "array(['DC6359'], dtype=object)"
            ]
          },
          "execution_count": 169,
          "metadata": {},
          "output_type": "execute_result"
        }
      ],
      "source": [
        "with open(\"../data/pickles/data_slidingwindowFalse10_samplingrate20_final_df.p\", 'rb') as f:\n",
        "  data = pk.load(f)\n",
        "dataframe = data['data']\n",
        "# test_dataframe = dataframe[dataframe['pid'] == \"BK7610\"]\n",
        "test_dataframe = dataframe[dataframe['pid'] == 'BU4707']\n",
        "dataframe = dataframe[(dataframe['pid'] != 'BK7610') & (dataframe['pid']!='BU4707')]\n",
        "\n",
        "\n",
        "dataframe['pid'].unique()"
      ]
    },
    {
      "cell_type": "code",
      "execution_count": 170,
      "metadata": {
        "id": "BR9_P6g3abHy"
      },
      "outputs": [],
      "source": [
        "# test_dataframe['tac'].unique()"
      ]
    },
    {
      "cell_type": "code",
      "execution_count": 171,
      "metadata": {
        "id": "U72Y1rrwHBiE"
      },
      "outputs": [],
      "source": [
        "def create_dataset(X, y, time_steps=1, step=1):\n",
        "    Xs, ys = [], []\n",
        "    for i in range(0, len(X) - time_steps, step):\n",
        "        v = X.iloc[i:(i + time_steps)].values\n",
        "        labels = y.iloc[i: i + time_steps]\n",
        "        Xs.append(v)\n",
        "        ys.append(scipy.stats.mode(labels)[0][0])\n",
        "    return np.array(Xs), np.array(ys).reshape(-1, 1)\n",
        "\n"
      ]
    },
    {
      "cell_type": "code",
      "execution_count": 172,
      "metadata": {
        "id": "9kQGBVhhH5Zd"
      },
      "outputs": [],
      "source": [
        "\n",
        "# scale_columns = ['x', 'y', 'z']\n",
        "# scaler = RobustScaler()\n",
        "# scaler = scaler.fit(dataframe[scale_columns])\n",
        "# dataframe.loc[:, scale_columns] = scaler.transform(\n",
        "#   dataframe[scale_columns].to_numpy()\n",
        "# )"
      ]
    },
    {
      "cell_type": "code",
      "execution_count": 189,
      "metadata": {
        "colab": {
          "base_uri": "https://localhost:8080/"
        },
        "id": "MCCN6RCMHdHA",
        "outputId": "f189bdea-6c51-4ba7-c118-d4d2412536f0"
      },
      "outputs": [
        {
          "name": "stderr",
          "output_type": "stream",
          "text": [
            "/var/folders/7y/kyw1v_8j0g1ckfb3g6x93q1m0000gn/T/ipykernel_21149/721208264.py:7: FutureWarning: Unlike other reduction functions (e.g. `skew`, `kurtosis`), the default behavior of `mode` typically preserves the axis it acts along. In SciPy 1.11.0, this behavior will change: the default value of `keepdims` will become False, the `axis` over which the statistic is taken will be eliminated, and the value None will no longer be accepted. Set `keepdims` to True or False to avoid this warning.\n",
            "  ys.append(scipy.stats.mode(labels)[0][0])\n",
            "/var/folders/7y/kyw1v_8j0g1ckfb3g6x93q1m0000gn/T/ipykernel_21149/721208264.py:7: FutureWarning: Unlike other reduction functions (e.g. `skew`, `kurtosis`), the default behavior of `mode` typically preserves the axis it acts along. In SciPy 1.11.0, this behavior will change: the default value of `keepdims` will become False, the `axis` over which the statistic is taken will be eliminated, and the value None will no longer be accepted. Set `keepdims` to True or False to avoid this warning.\n",
            "  ys.append(scipy.stats.mode(labels)[0][0])\n"
          ]
        }
      ],
      "source": [
        "TIME_STEPS = 20\n",
        "STEP = 20\n",
        "\n",
        "X_train, y_train = create_dataset(\n",
        "    dataframe[['x', 'y', 'z']],\n",
        "    dataframe.tac,\n",
        "    TIME_STEPS,\n",
        "    STEP\n",
        ")\n",
        "\n",
        "\n",
        "X_test, y_test = create_dataset(\n",
        "    test_dataframe[['x', 'y', 'z']],\n",
        "    test_dataframe.tac,\n",
        "    TIME_STEPS,\n",
        "    STEP\n",
        ")"
      ]
    },
    {
      "cell_type": "code",
      "execution_count": 190,
      "metadata": {},
      "outputs": [
        {
          "data": {
            "text/plain": [
              "((310559, 1, 3), (224319, 1, 3), (310559, 1), (224319, 1))"
            ]
          },
          "execution_count": 190,
          "metadata": {},
          "output_type": "execute_result"
        }
      ],
      "source": [
        "X_train.shape, X_test.shape, y_train.shape, y_test.shape"
      ]
    },
    {
      "cell_type": "code",
      "execution_count": 191,
      "metadata": {
        "colab": {
          "base_uri": "https://localhost:8080/"
        },
        "id": "XQ_bwik2KhJr",
        "outputId": "84b15627-fcc4-4f2d-f25c-58119113c7de"
      },
      "outputs": [
        {
          "name": "stderr",
          "output_type": "stream",
          "text": [
            "/Users/sarah_prakriti_peters/miniconda3/envs/DL/lib/python3.10/site-packages/sklearn/preprocessing/_encoders.py:868: FutureWarning: `sparse` was renamed to `sparse_output` in version 1.2 and will be removed in 1.4. `sparse_output` is ignored unless you leave `sparse` to its default value.\n",
            "  warnings.warn(\n"
          ]
        }
      ],
      "source": [
        "enc = OneHotEncoder(handle_unknown='ignore', sparse=False)\n",
        "\n",
        "enc = enc.fit(y_train)\n",
        "\n",
        "y_train = enc.transform(y_train)\n",
        "y_test = enc.transform(y_test)"
      ]
    },
    {
      "cell_type": "code",
      "execution_count": 192,
      "metadata": {
        "id": "FUIcs4DlB6vw"
      },
      "outputs": [],
      "source": [
        "model = keras.Sequential()\n",
        "# model.add(\n",
        "#     keras.layers.Bidirectional(\n",
        "#       keras.layers.LSTM(\n",
        "#           units=256,\n",
        "#           input_shape=[X_train.shape[1], X_train.shape[2]]\n",
        "#       )\n",
        "#     )\n",
        "# )\n",
        "model.add(\n",
        "      keras.layers.LSTM(\n",
        "          units=256,\n",
        "          input_shape=[X_train.shape[1], X_train.shape[2]]\n",
        "      )\n",
        ")\n",
        "model.add(keras.layers.Dropout(rate=0.5))\n",
        "model.add(keras.layers.Dense(units=128, activation='relu'))\n",
        "model.add(keras.layers.Dense(y_train.shape[1], activation='sigmoid'))\n",
        "\n",
        "model.compile(\n",
        "  loss='binary_crossentropy',\n",
        "  optimizer='adam', \n",
        "  metrics=['acc']\n",
        ")\n"
      ]
    },
    {
      "cell_type": "code",
      "execution_count": 193,
      "metadata": {
        "colab": {
          "base_uri": "https://localhost:8080/"
        },
        "id": "RGnBf1NT_8Jt",
        "outputId": "c861dfbd-2086-462f-b8ea-04840390a6fc"
      },
      "outputs": [
        {
          "name": "stdout",
          "output_type": "stream",
          "text": [
            "Epoch 1/20\n",
            "9608/9608 [==============================] - 28s 3ms/step - loss: 0.0357 - acc: 0.9919 - val_loss: 6.8162e-07 - val_acc: 1.0000\n",
            "Epoch 2/20\n",
            "9608/9608 [==============================] - 25s 3ms/step - loss: 0.0539 - acc: 0.9875 - val_loss: 1.1312e-05 - val_acc: 1.0000\n",
            "Epoch 3/20\n",
            "9608/9608 [==============================] - 26s 3ms/step - loss: 0.0539 - acc: 0.9881 - val_loss: 3.1064e-05 - val_acc: 1.0000\n",
            "Epoch 4/20\n",
            "9608/9608 [==============================] - 27s 3ms/step - loss: 0.0555 - acc: 0.9905 - val_loss: 3.8768e-05 - val_acc: 1.0000\n",
            "Epoch 5/20\n",
            "9608/9608 [==============================] - 26s 3ms/step - loss: 0.0501 - acc: 0.9920 - val_loss: 1.0025e-06 - val_acc: 1.0000\n",
            "Epoch 6/20\n",
            "9608/9608 [==============================] - 26s 3ms/step - loss: 0.0553 - acc: 0.9917 - val_loss: 5.6496e-08 - val_acc: 1.0000\n",
            "Epoch 7/20\n",
            "9608/9608 [==============================] - 28s 3ms/step - loss: 0.0531 - acc: 0.9926 - val_loss: 7.1072e-07 - val_acc: 1.0000\n",
            "Epoch 8/20\n",
            "9608/9608 [==============================] - 26s 3ms/step - loss: 0.0515 - acc: 0.9923 - val_loss: 7.9570e-07 - val_acc: 1.0000\n",
            "Epoch 9/20\n",
            "9608/9608 [==============================] - 28s 3ms/step - loss: 0.0502 - acc: 0.9923 - val_loss: 4.5483e-06 - val_acc: 1.0000\n",
            "Epoch 10/20\n",
            "9608/9608 [==============================] - 27s 3ms/step - loss: 0.0470 - acc: 0.9923 - val_loss: 1.8461e-06 - val_acc: 1.0000\n",
            "Epoch 11/20\n",
            "9608/9608 [==============================] - 27s 3ms/step - loss: 0.0454 - acc: 0.9930 - val_loss: 2.2228e-07 - val_acc: 1.0000\n",
            "Epoch 12/20\n",
            "9608/9608 [==============================] - 27s 3ms/step - loss: 0.0506 - acc: 0.9929 - val_loss: 3.6358e-08 - val_acc: 1.0000\n",
            "Epoch 13/20\n",
            "9608/9608 [==============================] - 27s 3ms/step - loss: 0.0516 - acc: 0.9931 - val_loss: 1.6921e-09 - val_acc: 1.0000\n",
            "Epoch 14/20\n",
            "9608/9608 [==============================] - 26s 3ms/step - loss: 0.0573 - acc: 0.9930 - val_loss: 8.3171e-10 - val_acc: 1.0000\n",
            "Epoch 15/20\n",
            "9608/9608 [==============================] - 27s 3ms/step - loss: 0.0544 - acc: 0.9931 - val_loss: 3.5859e-09 - val_acc: 1.0000\n",
            "Epoch 16/20\n",
            "9608/9608 [==============================] - 27s 3ms/step - loss: 0.0569 - acc: 0.9934 - val_loss: 2.0344e-09 - val_acc: 1.0000\n",
            "Epoch 17/20\n",
            "9608/9608 [==============================] - 27s 3ms/step - loss: 0.0612 - acc: 0.9934 - val_loss: 1.3647e-09 - val_acc: 1.0000\n",
            "Epoch 18/20\n",
            "9608/9608 [==============================] - 27s 3ms/step - loss: 0.0567 - acc: 0.9935 - val_loss: 1.3980e-09 - val_acc: 1.0000\n",
            "Epoch 19/20\n",
            "9608/9608 [==============================] - 28s 3ms/step - loss: 0.0555 - acc: 0.9936 - val_loss: 1.5194e-09 - val_acc: 1.0000\n",
            "Epoch 20/20\n",
            "9608/9608 [==============================] - 26s 3ms/step - loss: 0.0589 - acc: 0.9936 - val_loss: 1.1771e-09 - val_acc: 1.0000\n"
          ]
        }
      ],
      "source": [
        "history = model.fit(\n",
        "    X_train, y_train,\n",
        "    epochs=20,\n",
        "    batch_size=32, \n",
        "    validation_split=0.01, \n",
        "    shuffle=False)   "
      ]
    },
    {
      "cell_type": "code",
      "execution_count": 194,
      "metadata": {
        "colab": {
          "base_uri": "https://localhost:8080/"
        },
        "id": "aQHHD49BjFtu",
        "outputId": "bfd8ebbb-75d4-4005-d081-9dbc97db0710"
      },
      "outputs": [],
      "source": [
        "# test_dataframe[test_dataframe['tac']==1].count(), test_dataframe[test_dataframe['tac']==0].count()"
      ]
    },
    {
      "cell_type": "code",
      "execution_count": 195,
      "metadata": {
        "colab": {
          "base_uri": "https://localhost:8080/"
        },
        "id": "AmwivqA-ezWf",
        "outputId": "54e7f9fb-4421-40a7-ae4b-946569dcc020"
      },
      "outputs": [],
      "source": [
        "# X_test[0]"
      ]
    },
    {
      "cell_type": "code",
      "execution_count": 196,
      "metadata": {
        "colab": {
          "base_uri": "https://localhost:8080/"
        },
        "id": "yeT3THOyNLRq",
        "outputId": "2d9e8153-a841-4706-9c55-daabcfe4dd4b"
      },
      "outputs": [
        {
          "name": "stdout",
          "output_type": "stream",
          "text": [
            "7010/7010 [==============================] - 6s 817us/step - loss: 18.9527 - acc: 0.2846\n"
          ]
        },
        {
          "data": {
            "text/plain": [
              "[18.95272445678711, 0.28459471464157104]"
            ]
          },
          "execution_count": 196,
          "metadata": {},
          "output_type": "execute_result"
        }
      ],
      "source": [
        "model.evaluate(X_test, y_test) "
      ]
    },
    {
      "cell_type": "code",
      "execution_count": null,
      "metadata": {
        "colab": {
          "base_uri": "https://localhost:8080/"
        },
        "id": "FRni1Nirin2l",
        "outputId": "64a476f1-98a8-448c-fd2d-1efdddbc75e9"
      },
      "outputs": [],
      "source": [
        "dataframe[dataframe['tac']==1].count(), dataframe[dataframe['tac']==0].count(), "
      ]
    },
    {
      "cell_type": "code",
      "execution_count": null,
      "metadata": {
        "colab": {
          "base_uri": "https://localhost:8080/"
        },
        "id": "2p2QH9uNjA2o",
        "outputId": "36110e0d-c773-4fce-aa10-76168f839786"
      },
      "outputs": [],
      "source": [
        "dataframe.shape"
      ]
    },
    {
      "cell_type": "code",
      "execution_count": null,
      "metadata": {
        "colab": {
          "base_uri": "https://localhost:8080/"
        },
        "id": "oYy34DGKhjIN",
        "outputId": "1f4624fb-2408-4524-ad01-3b2ccf11ead7"
      },
      "outputs": [],
      "source": [
        "# test = np.squeeze(y_test)\n",
        "np.where(np.squeeze(y_train))==1"
      ]
    },
    {
      "cell_type": "code",
      "execution_count": null,
      "metadata": {
        "colab": {
          "base_uri": "https://localhost:8080/",
          "height": 164
        },
        "id": "kGUHvayDiE5U",
        "outputId": "e8ca53b2-8b34-4647-a752-c0ba0e720539"
      },
      "outputs": [],
      "source": [
        "# len(np.where(test == 1))"
      ]
    },
    {
      "cell_type": "code",
      "execution_count": null,
      "metadata": {
        "id": "tjJzKg5bNpnK"
      },
      "outputs": [],
      "source": [
        "X_test[0]"
      ]
    },
    {
      "cell_type": "code",
      "execution_count": null,
      "metadata": {
        "id": "eUg7ksGgP5Iz"
      },
      "outputs": [],
      "source": [
        "X_train[0]"
      ]
    },
    {
      "cell_type": "code",
      "execution_count": null,
      "metadata": {
        "colab": {
          "base_uri": "https://localhost:8080/"
        },
        "id": "xEsBKL8OaHZ4",
        "outputId": "de7d8a53-f6ac-4f2c-9490-75fb7c3598e9"
      },
      "outputs": [],
      "source": [
        "# y_train.shape"
      ]
    },
    {
      "cell_type": "code",
      "execution_count": null,
      "metadata": {
        "id": "DB2LN5fRYs4e"
      },
      "outputs": [],
      "source": [
        "# model.save(\"bidirectional_lstm.h5\")"
      ]
    },
    {
      "cell_type": "code",
      "execution_count": null,
      "metadata": {
        "colab": {
          "base_uri": "https://localhost:8080/"
        },
        "id": "qumICwfGZZUq",
        "outputId": "9292ed95-db0b-410b-9c23-759dd5fcabe7"
      },
      "outputs": [],
      "source": [
        "model = keras.Sequential()\n",
        "model.add(\n",
        "    keras.layers.Bidirectional(\n",
        "      keras.layers.LSTM(\n",
        "          units=256,\n",
        "          input_shape=[X_train.shape[1], X_train.shape[2]]\n",
        "      )\n",
        "    )\n",
        ")\n",
        "model.add(keras.layers.Dropout(rate=0.5))\n",
        "model.add(keras.layers.Dense(units=128, activation='relu'))\n",
        "model.add(keras.layers.TimeDistributed(keras.layers.Dense(y_train.shape[1], activation='sigmoid')))\n",
        "\n",
        "model.compile(\n",
        "  loss='binary_crossentropy',\n",
        "  optimizer=keras.optimizers.Adam(0.01),\n",
        "  metrics=['acc']\n",
        ")\n",
        "\n",
        "\n",
        "history = model.fit(\n",
        "    X_train, y_train,\n",
        "    epochs=20,\n",
        "    batch_size=32, \n",
        "    validation_split=0.01,\n",
        "    shuffle=False) \n"
      ]
    },
    {
      "cell_type": "code",
      "execution_count": null,
      "metadata": {},
      "outputs": [],
      "source": [
        "model.evaluate(X_test, y_test)"
      ]
    },
    {
      "cell_type": "code",
      "execution_count": null,
      "metadata": {
        "colab": {
          "base_uri": "https://localhost:8080/"
        },
        "id": "I0aOkUjtaBj5",
        "outputId": "92dc6c8f-b6e9-497c-ce22-49b7b7ec44a9"
      },
      "outputs": [],
      "source": [
        "X_test.shape"
      ]
    },
    {
      "cell_type": "code",
      "execution_count": null,
      "metadata": {
        "colab": {
          "base_uri": "https://localhost:8080/"
        },
        "id": "mQWBxIRAZccd",
        "outputId": "76d33247-a901-4cb7-b6c2-5362bb57610c"
      },
      "outputs": [],
      "source": [
        "X_test.shape"
      ]
    },
    {
      "cell_type": "code",
      "execution_count": null,
      "metadata": {
        "colab": {
          "base_uri": "https://localhost:8080/",
          "height": 204
        },
        "id": "wGqzwyOkZuSR",
        "outputId": "35c4ac03-3470-4c9b-b479-ddb985d25924"
      },
      "outputs": [],
      "source": [
        "test_dataframe.head()"
      ]
    },
    {
      "attachments": {},
      "cell_type": "markdown",
      "metadata": {},
      "source": [
        "## MLP Classifier"
      ]
    },
    {
      "cell_type": "code",
      "execution_count": null,
      "metadata": {
        "id": "CZMZgyriZMsW"
      },
      "outputs": [],
      "source": [
        "from sklearn.neural_network import MLPClassifier\n",
        "from sklearn.metrics import accuracy_score\n",
        "clf = MLPClassifier(solver='adam', shuffle=True, random_state=1)"
      ]
    },
    {
      "cell_type": "code",
      "execution_count": null,
      "metadata": {},
      "outputs": [],
      "source": [
        "X_train.shape"
      ]
    },
    {
      "cell_type": "code",
      "execution_count": null,
      "metadata": {},
      "outputs": [],
      "source": [
        "clf.fit(np.reshape(X_train, (15542, 60)), y_train)\n",
        "clf.get_params()"
      ]
    },
    {
      "cell_type": "code",
      "execution_count": null,
      "metadata": {},
      "outputs": [],
      "source": [
        "X_test.shape"
      ]
    },
    {
      "cell_type": "code",
      "execution_count": null,
      "metadata": {},
      "outputs": [],
      "source": [
        "print('Accuracy ', accuracy_score(y_test, clf.predict(np.reshape(X_test, (11229, 60)))))"
      ]
    },
    {
      "attachments": {},
      "cell_type": "markdown",
      "metadata": {},
      "source": [
        "## CNN "
      ]
    },
    {
      "cell_type": "code",
      "execution_count": null,
      "metadata": {},
      "outputs": [],
      "source": [
        "batch_size = 256\n",
        "epochs = 20\n",
        "\n",
        "flatten = keras.layers.Flatten()\n",
        "conv_layer1 = keras.layers.Conv1D(filters = 64, kernel_size = 3, padding='SAME')\n",
        "conv_layer2 = keras.layers.Conv1D(filters = 64, kernel_size = 3, padding='SAME')\n",
        "dropout = keras.layers.Dropout(0.5)\n",
        "max_pooling = keras.layers.MaxPool1D(pool_size=2)\n",
        "fc_layer = keras.layers.Dense(units=128, activation = 'relu')\n",
        "fc_layer2 = keras.layers.Dense(y_train.shape[1], activation = 'sigmoid')\n",
        "base_model = keras.Sequential([\n",
        "                                  conv_layer1,  \n",
        "                                  conv_layer2, \n",
        "                                  dropout, \n",
        "                                  max_pooling, \n",
        "                                  flatten, \n",
        "                                  fc_layer, \n",
        "                                  fc_layer2\n",
        "                                ])\n",
        "\n",
        "base_model.compile(loss='binary_crossentropy', \n",
        "                   optimizer='adam',\n",
        "                   metrics=['acc']) "
      ]
    },
    {
      "cell_type": "code",
      "execution_count": null,
      "metadata": {},
      "outputs": [],
      "source": [
        "history = base_model.fit(\n",
        "    X_train, y_train,\n",
        "    epochs=20,\n",
        "    batch_size=32, \n",
        "    validation_split=0.01,\n",
        "    shuffle=False) "
      ]
    },
    {
      "cell_type": "code",
      "execution_count": null,
      "metadata": {},
      "outputs": [],
      "source": [
        "base_model.evaluate(X_test, y_test)"
      ]
    }
  ],
  "metadata": {
    "accelerator": "GPU",
    "colab": {
      "gpuType": "V100",
      "provenance": []
    },
    "gpuClass": "standard",
    "kernelspec": {
      "display_name": "Python 3",
      "name": "python3"
    },
    "language_info": {
      "codemirror_mode": {
        "name": "ipython",
        "version": 3
      },
      "file_extension": ".py",
      "mimetype": "text/x-python",
      "name": "python",
      "nbconvert_exporter": "python",
      "pygments_lexer": "ipython3",
      "version": "3.10.10"
    }
  },
  "nbformat": 4,
  "nbformat_minor": 0
}
