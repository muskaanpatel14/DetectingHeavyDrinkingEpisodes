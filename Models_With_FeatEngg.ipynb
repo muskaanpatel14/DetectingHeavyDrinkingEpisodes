{
 "cells": [
  {
   "cell_type": "code",
   "execution_count": 107,
   "metadata": {},
   "outputs": [],
   "source": [
    "# %pip install scikit-learn"
   ]
  },
  {
   "cell_type": "code",
   "execution_count": 108,
   "metadata": {},
   "outputs": [],
   "source": [
    "import numpy as np\n",
    "from sklearn.preprocessing import RobustScaler, OneHotEncoder\n",
    "import pickle as pk\n",
    "import pandas as pd\n",
    "from tensorflow import keras\n",
    "import scipy\n",
    "np.random.seed(0)"
   ]
  },
  {
   "cell_type": "code",
   "execution_count": 109,
   "metadata": {},
   "outputs": [],
   "source": [
    "# with open(\"../data/pickles/data_slidingwindowFalse10_samplingrate20_df.p\", 'rb') as f:\n",
    "#   data = pk.load(f)\n",
    "# dataframe = data['data']\n",
    "# test_dataframe = dataframe[dataframe['pid'] == 'BU4707']\n",
    "# dataframe = dataframe[(dataframe['pid'] != 'BK7610') & (dataframe['pid']!='BU4707')]\n",
    "\n",
    "# test_dataframe.shape"
   ]
  },
  {
   "cell_type": "code",
   "execution_count": 110,
   "metadata": {},
   "outputs": [
    {
     "data": {
      "text/html": [
       "<div>\n",
       "<style scoped>\n",
       "    .dataframe tbody tr th:only-of-type {\n",
       "        vertical-align: middle;\n",
       "    }\n",
       "\n",
       "    .dataframe tbody tr th {\n",
       "        vertical-align: top;\n",
       "    }\n",
       "\n",
       "    .dataframe thead th {\n",
       "        text-align: right;\n",
       "    }\n",
       "</style>\n",
       "<table border=\"1\" class=\"dataframe\">\n",
       "  <thead>\n",
       "    <tr style=\"text-align: right;\">\n",
       "      <th></th>\n",
       "      <th>tac</th>\n",
       "      <th>x_mean</th>\n",
       "      <th>y_mean</th>\n",
       "      <th>z_mean</th>\n",
       "      <th>x_std</th>\n",
       "      <th>y_std</th>\n",
       "      <th>z_std</th>\n",
       "      <th>x_aad</th>\n",
       "      <th>y_aad</th>\n",
       "      <th>z_aad</th>\n",
       "      <th>...</th>\n",
       "      <th>y_skewness_fft</th>\n",
       "      <th>z_skewness_fft</th>\n",
       "      <th>x_kurtosis_fft</th>\n",
       "      <th>y_kurtosis_fft</th>\n",
       "      <th>z_kurtosis_fft</th>\n",
       "      <th>x_energy_fft</th>\n",
       "      <th>y_energy_fft</th>\n",
       "      <th>z_energy_fft</th>\n",
       "      <th>avg_result_accl_fft</th>\n",
       "      <th>sma_fft</th>\n",
       "    </tr>\n",
       "  </thead>\n",
       "  <tbody>\n",
       "    <tr>\n",
       "      <th>0</th>\n",
       "      <td>0</td>\n",
       "      <td>-0.000522</td>\n",
       "      <td>-0.001690</td>\n",
       "      <td>-0.001607</td>\n",
       "      <td>0.012240</td>\n",
       "      <td>0.007164</td>\n",
       "      <td>0.010232</td>\n",
       "      <td>0.008288</td>\n",
       "      <td>0.005044</td>\n",
       "      <td>0.007790</td>\n",
       "      <td>...</td>\n",
       "      <td>0.382507</td>\n",
       "      <td>0.252335</td>\n",
       "      <td>-0.597043</td>\n",
       "      <td>-0.470893</td>\n",
       "      <td>-0.597490</td>\n",
       "      <td>0.015067</td>\n",
       "      <td>0.005144</td>\n",
       "      <td>0.010473</td>\n",
       "      <td>0.166114</td>\n",
       "      <td>0.260122</td>\n",
       "    </tr>\n",
       "    <tr>\n",
       "      <th>1</th>\n",
       "      <td>0</td>\n",
       "      <td>-0.004428</td>\n",
       "      <td>0.000969</td>\n",
       "      <td>-0.000996</td>\n",
       "      <td>0.009895</td>\n",
       "      <td>0.008558</td>\n",
       "      <td>0.012174</td>\n",
       "      <td>0.007525</td>\n",
       "      <td>0.006547</td>\n",
       "      <td>0.008964</td>\n",
       "      <td>...</td>\n",
       "      <td>1.111469</td>\n",
       "      <td>0.609624</td>\n",
       "      <td>-1.028063</td>\n",
       "      <td>0.992759</td>\n",
       "      <td>-0.071901</td>\n",
       "      <td>0.009792</td>\n",
       "      <td>0.007507</td>\n",
       "      <td>0.015176</td>\n",
       "      <td>0.171882</td>\n",
       "      <td>0.275326</td>\n",
       "    </tr>\n",
       "    <tr>\n",
       "      <th>2</th>\n",
       "      <td>0</td>\n",
       "      <td>-0.002430</td>\n",
       "      <td>0.003917</td>\n",
       "      <td>0.000383</td>\n",
       "      <td>0.018988</td>\n",
       "      <td>0.013274</td>\n",
       "      <td>0.018427</td>\n",
       "      <td>0.013756</td>\n",
       "      <td>0.009328</td>\n",
       "      <td>0.013305</td>\n",
       "      <td>...</td>\n",
       "      <td>0.019312</td>\n",
       "      <td>0.954931</td>\n",
       "      <td>-0.028103</td>\n",
       "      <td>-0.854662</td>\n",
       "      <td>0.259621</td>\n",
       "      <td>0.037391</td>\n",
       "      <td>0.017624</td>\n",
       "      <td>0.034380</td>\n",
       "      <td>0.282788</td>\n",
       "      <td>0.443865</td>\n",
       "    </tr>\n",
       "    <tr>\n",
       "      <th>3</th>\n",
       "      <td>0</td>\n",
       "      <td>-0.003570</td>\n",
       "      <td>0.003626</td>\n",
       "      <td>0.000294</td>\n",
       "      <td>0.026215</td>\n",
       "      <td>0.014554</td>\n",
       "      <td>0.020006</td>\n",
       "      <td>0.020313</td>\n",
       "      <td>0.010637</td>\n",
       "      <td>0.013874</td>\n",
       "      <td>...</td>\n",
       "      <td>0.746230</td>\n",
       "      <td>0.168985</td>\n",
       "      <td>0.328466</td>\n",
       "      <td>0.932649</td>\n",
       "      <td>-0.605917</td>\n",
       "      <td>0.069683</td>\n",
       "      <td>0.021186</td>\n",
       "      <td>0.040531</td>\n",
       "      <td>0.342740</td>\n",
       "      <td>0.535346</td>\n",
       "    </tr>\n",
       "    <tr>\n",
       "      <th>4</th>\n",
       "      <td>0</td>\n",
       "      <td>-0.003775</td>\n",
       "      <td>0.003096</td>\n",
       "      <td>-0.000126</td>\n",
       "      <td>0.023270</td>\n",
       "      <td>0.012352</td>\n",
       "      <td>0.014846</td>\n",
       "      <td>0.018516</td>\n",
       "      <td>0.010172</td>\n",
       "      <td>0.010447</td>\n",
       "      <td>...</td>\n",
       "      <td>0.383765</td>\n",
       "      <td>0.451049</td>\n",
       "      <td>-0.760536</td>\n",
       "      <td>-0.991467</td>\n",
       "      <td>-0.724613</td>\n",
       "      <td>0.054373</td>\n",
       "      <td>0.015269</td>\n",
       "      <td>0.022129</td>\n",
       "      <td>0.281318</td>\n",
       "      <td>0.442524</td>\n",
       "    </tr>\n",
       "  </tbody>\n",
       "</table>\n",
       "<p>5 rows × 89 columns</p>\n",
       "</div>"
      ],
      "text/plain": [
       "   tac    x_mean    y_mean    z_mean     x_std     y_std     z_std     x_aad   \n",
       "0    0 -0.000522 -0.001690 -0.001607  0.012240  0.007164  0.010232  0.008288  \\\n",
       "1    0 -0.004428  0.000969 -0.000996  0.009895  0.008558  0.012174  0.007525   \n",
       "2    0 -0.002430  0.003917  0.000383  0.018988  0.013274  0.018427  0.013756   \n",
       "3    0 -0.003570  0.003626  0.000294  0.026215  0.014554  0.020006  0.020313   \n",
       "4    0 -0.003775  0.003096 -0.000126  0.023270  0.012352  0.014846  0.018516   \n",
       "\n",
       "      y_aad     z_aad  ...  y_skewness_fft  z_skewness_fft  x_kurtosis_fft   \n",
       "0  0.005044  0.007790  ...        0.382507        0.252335       -0.597043  \\\n",
       "1  0.006547  0.008964  ...        1.111469        0.609624       -1.028063   \n",
       "2  0.009328  0.013305  ...        0.019312        0.954931       -0.028103   \n",
       "3  0.010637  0.013874  ...        0.746230        0.168985        0.328466   \n",
       "4  0.010172  0.010447  ...        0.383765        0.451049       -0.760536   \n",
       "\n",
       "   y_kurtosis_fft  z_kurtosis_fft  x_energy_fft  y_energy_fft  z_energy_fft   \n",
       "0       -0.470893       -0.597490      0.015067      0.005144      0.010473  \\\n",
       "1        0.992759       -0.071901      0.009792      0.007507      0.015176   \n",
       "2       -0.854662        0.259621      0.037391      0.017624      0.034380   \n",
       "3        0.932649       -0.605917      0.069683      0.021186      0.040531   \n",
       "4       -0.991467       -0.724613      0.054373      0.015269      0.022129   \n",
       "\n",
       "   avg_result_accl_fft   sma_fft  \n",
       "0             0.166114  0.260122  \n",
       "1             0.171882  0.275326  \n",
       "2             0.282788  0.443865  \n",
       "3             0.342740  0.535346  \n",
       "4             0.281318  0.442524  \n",
       "\n",
       "[5 rows x 89 columns]"
      ]
     },
     "execution_count": 110,
     "metadata": {},
     "output_type": "execute_result"
    }
   ],
   "source": [
    "## PID = DC6359\n",
    "df = pd.read_csv(\"../data/DC6359_feature_engg_updated.csv\")\n",
    "df = df.sample(frac=1, random_state=1).reset_index()\n",
    "df = df.drop(['Unnamed: 0'], axis=1) \n",
    "df.head()"
   ]
  },
  {
   "cell_type": "code",
   "execution_count": null,
   "metadata": {},
   "outputs": [],
   "source": [
    "# test_df = pd.read_csv(\"../data/BU4707_feature_engg_updated.csv\")\n",
    "# test_df = test_df.drop(['Unnamed: 0'], axis=1) \n",
    "# test_df.head()"
   ]
  },
  {
   "cell_type": "code",
   "execution_count": 132,
   "metadata": {},
   "outputs": [],
   "source": [
    "from sklearn.model_selection import train_test_split\n",
    "X_train, X_test, y_train, y_test = train_test_split(df.drop(['tac'], axis=1), df.tac, test_size=0.25, random_state=1)"
   ]
  },
  {
   "cell_type": "code",
   "execution_count": 111,
   "metadata": {},
   "outputs": [
    {
     "data": {
      "text/html": [
       "<div>\n",
       "<style scoped>\n",
       "    .dataframe tbody tr th:only-of-type {\n",
       "        vertical-align: middle;\n",
       "    }\n",
       "\n",
       "    .dataframe tbody tr th {\n",
       "        vertical-align: top;\n",
       "    }\n",
       "\n",
       "    .dataframe thead th {\n",
       "        text-align: right;\n",
       "    }\n",
       "</style>\n",
       "<table border=\"1\" class=\"dataframe\">\n",
       "  <thead>\n",
       "    <tr style=\"text-align: right;\">\n",
       "      <th></th>\n",
       "      <th>tac</th>\n",
       "      <th>x_mean</th>\n",
       "      <th>y_mean</th>\n",
       "      <th>z_mean</th>\n",
       "      <th>x_std</th>\n",
       "      <th>y_std</th>\n",
       "      <th>z_std</th>\n",
       "      <th>x_aad</th>\n",
       "      <th>y_aad</th>\n",
       "      <th>z_aad</th>\n",
       "      <th>...</th>\n",
       "      <th>y_skewness_fft</th>\n",
       "      <th>z_skewness_fft</th>\n",
       "      <th>x_kurtosis_fft</th>\n",
       "      <th>y_kurtosis_fft</th>\n",
       "      <th>z_kurtosis_fft</th>\n",
       "      <th>x_energy_fft</th>\n",
       "      <th>y_energy_fft</th>\n",
       "      <th>z_energy_fft</th>\n",
       "      <th>avg_result_accl_fft</th>\n",
       "      <th>sma_fft</th>\n",
       "    </tr>\n",
       "  </thead>\n",
       "  <tbody>\n",
       "    <tr>\n",
       "      <th>0</th>\n",
       "      <td>0</td>\n",
       "      <td>0.004578</td>\n",
       "      <td>0.007246</td>\n",
       "      <td>0.016726</td>\n",
       "      <td>0.003708</td>\n",
       "      <td>0.004323</td>\n",
       "      <td>0.004929</td>\n",
       "      <td>0.003109</td>\n",
       "      <td>0.003611</td>\n",
       "      <td>0.003963</td>\n",
       "      <td>...</td>\n",
       "      <td>0.562194</td>\n",
       "      <td>0.461567</td>\n",
       "      <td>0.196162</td>\n",
       "      <td>0.037270</td>\n",
       "      <td>-0.640511</td>\n",
       "      <td>0.001377</td>\n",
       "      <td>0.001879</td>\n",
       "      <td>0.002469</td>\n",
       "      <td>0.073160</td>\n",
       "      <td>0.118760</td>\n",
       "    </tr>\n",
       "    <tr>\n",
       "      <th>1</th>\n",
       "      <td>0</td>\n",
       "      <td>0.001759</td>\n",
       "      <td>0.010015</td>\n",
       "      <td>0.016626</td>\n",
       "      <td>0.013341</td>\n",
       "      <td>0.010943</td>\n",
       "      <td>0.010745</td>\n",
       "      <td>0.006699</td>\n",
       "      <td>0.006029</td>\n",
       "      <td>0.005773</td>\n",
       "      <td>...</td>\n",
       "      <td>-0.094469</td>\n",
       "      <td>0.643626</td>\n",
       "      <td>0.694876</td>\n",
       "      <td>-0.841908</td>\n",
       "      <td>0.796935</td>\n",
       "      <td>0.017846</td>\n",
       "      <td>0.012040</td>\n",
       "      <td>0.011658</td>\n",
       "      <td>0.196499</td>\n",
       "      <td>0.320673</td>\n",
       "    </tr>\n",
       "    <tr>\n",
       "      <th>2</th>\n",
       "      <td>0</td>\n",
       "      <td>0.002363</td>\n",
       "      <td>0.009744</td>\n",
       "      <td>0.013846</td>\n",
       "      <td>0.017084</td>\n",
       "      <td>0.013323</td>\n",
       "      <td>0.014038</td>\n",
       "      <td>0.010165</td>\n",
       "      <td>0.008480</td>\n",
       "      <td>0.009637</td>\n",
       "      <td>...</td>\n",
       "      <td>0.352616</td>\n",
       "      <td>0.360749</td>\n",
       "      <td>0.211095</td>\n",
       "      <td>-0.434230</td>\n",
       "      <td>-0.963782</td>\n",
       "      <td>0.029520</td>\n",
       "      <td>0.017757</td>\n",
       "      <td>0.019744</td>\n",
       "      <td>0.245845</td>\n",
       "      <td>0.396169</td>\n",
       "    </tr>\n",
       "    <tr>\n",
       "      <th>3</th>\n",
       "      <td>0</td>\n",
       "      <td>0.002435</td>\n",
       "      <td>0.008929</td>\n",
       "      <td>0.010908</td>\n",
       "      <td>0.011838</td>\n",
       "      <td>0.009810</td>\n",
       "      <td>0.012986</td>\n",
       "      <td>0.007481</td>\n",
       "      <td>0.007362</td>\n",
       "      <td>0.009902</td>\n",
       "      <td>...</td>\n",
       "      <td>0.203188</td>\n",
       "      <td>0.948351</td>\n",
       "      <td>1.158696</td>\n",
       "      <td>-0.739112</td>\n",
       "      <td>1.158584</td>\n",
       "      <td>0.014189</td>\n",
       "      <td>0.009638</td>\n",
       "      <td>0.016865</td>\n",
       "      <td>0.193401</td>\n",
       "      <td>0.310360</td>\n",
       "    </tr>\n",
       "    <tr>\n",
       "      <th>4</th>\n",
       "      <td>0</td>\n",
       "      <td>0.000526</td>\n",
       "      <td>0.009971</td>\n",
       "      <td>0.010272</td>\n",
       "      <td>0.005405</td>\n",
       "      <td>0.007611</td>\n",
       "      <td>0.010529</td>\n",
       "      <td>0.003908</td>\n",
       "      <td>0.005775</td>\n",
       "      <td>0.007740</td>\n",
       "      <td>...</td>\n",
       "      <td>0.685426</td>\n",
       "      <td>0.978296</td>\n",
       "      <td>-0.939616</td>\n",
       "      <td>-0.049094</td>\n",
       "      <td>0.752159</td>\n",
       "      <td>0.002948</td>\n",
       "      <td>0.005793</td>\n",
       "      <td>0.011107</td>\n",
       "      <td>0.132176</td>\n",
       "      <td>0.205270</td>\n",
       "    </tr>\n",
       "  </tbody>\n",
       "</table>\n",
       "<p>5 rows × 89 columns</p>\n",
       "</div>"
      ],
      "text/plain": [
       "   tac    x_mean    y_mean    z_mean     x_std     y_std     z_std     x_aad   \n",
       "0    0  0.004578  0.007246  0.016726  0.003708  0.004323  0.004929  0.003109  \\\n",
       "1    0  0.001759  0.010015  0.016626  0.013341  0.010943  0.010745  0.006699   \n",
       "2    0  0.002363  0.009744  0.013846  0.017084  0.013323  0.014038  0.010165   \n",
       "3    0  0.002435  0.008929  0.010908  0.011838  0.009810  0.012986  0.007481   \n",
       "4    0  0.000526  0.009971  0.010272  0.005405  0.007611  0.010529  0.003908   \n",
       "\n",
       "      y_aad     z_aad  ...  y_skewness_fft  z_skewness_fft  x_kurtosis_fft   \n",
       "0  0.003611  0.003963  ...        0.562194        0.461567        0.196162  \\\n",
       "1  0.006029  0.005773  ...       -0.094469        0.643626        0.694876   \n",
       "2  0.008480  0.009637  ...        0.352616        0.360749        0.211095   \n",
       "3  0.007362  0.009902  ...        0.203188        0.948351        1.158696   \n",
       "4  0.005775  0.007740  ...        0.685426        0.978296       -0.939616   \n",
       "\n",
       "   y_kurtosis_fft  z_kurtosis_fft  x_energy_fft  y_energy_fft  z_energy_fft   \n",
       "0        0.037270       -0.640511      0.001377      0.001879      0.002469  \\\n",
       "1       -0.841908        0.796935      0.017846      0.012040      0.011658   \n",
       "2       -0.434230       -0.963782      0.029520      0.017757      0.019744   \n",
       "3       -0.739112        1.158584      0.014189      0.009638      0.016865   \n",
       "4       -0.049094        0.752159      0.002948      0.005793      0.011107   \n",
       "\n",
       "   avg_result_accl_fft   sma_fft  \n",
       "0             0.073160  0.118760  \n",
       "1             0.196499  0.320673  \n",
       "2             0.245845  0.396169  \n",
       "3             0.193401  0.310360  \n",
       "4             0.132176  0.205270  \n",
       "\n",
       "[5 rows x 89 columns]"
      ]
     },
     "execution_count": 111,
     "metadata": {},
     "output_type": "execute_result"
    }
   ],
   "source": [
    "df = "
   ]
  },
  {
   "cell_type": "code",
   "execution_count": 112,
   "metadata": {},
   "outputs": [
    {
     "data": {
      "text/plain": [
       "((4490, 88), (4490,))"
      ]
     },
     "execution_count": 112,
     "metadata": {},
     "output_type": "execute_result"
    }
   ],
   "source": [
    "# Test PID = BU4707\n",
    "X_test = test_df.drop(['tac'], axis=1)\n",
    "y_test = test_df.tac\n",
    "X_test.shape, y_test.shape"
   ]
  },
  {
   "cell_type": "code",
   "execution_count": 113,
   "metadata": {},
   "outputs": [
    {
     "data": {
      "text/plain": [
       "array([[0],\n",
       "       [0],\n",
       "       [0],\n",
       "       ...,\n",
       "       [1],\n",
       "       [1],\n",
       "       [1]])"
      ]
     },
     "execution_count": 113,
     "metadata": {},
     "output_type": "execute_result"
    }
   ],
   "source": [
    "np.array(df.tac).reshape(-1, 1)"
   ]
  },
  {
   "cell_type": "code",
   "execution_count": 122,
   "metadata": {},
   "outputs": [
    {
     "name": "stderr",
     "output_type": "stream",
     "text": [
      "/var/folders/7y/kyw1v_8j0g1ckfb3g6x93q1m0000gn/T/ipykernel_23060/209021649.py:7: FutureWarning: Unlike other reduction functions (e.g. `skew`, `kurtosis`), the default behavior of `mode` typically preserves the axis it acts along. In SciPy 1.11.0, this behavior will change: the default value of `keepdims` will become False, the `axis` over which the statistic is taken will be eliminated, and the value None will no longer be accepted. Set `keepdims` to True or False to avoid this warning.\n",
      "  ys.append(scipy.stats.mode(labels)[0][0])\n",
      "/var/folders/7y/kyw1v_8j0g1ckfb3g6x93q1m0000gn/T/ipykernel_23060/209021649.py:7: FutureWarning: Unlike other reduction functions (e.g. `skew`, `kurtosis`), the default behavior of `mode` typically preserves the axis it acts along. In SciPy 1.11.0, this behavior will change: the default value of `keepdims` will become False, the `axis` over which the statistic is taken will be eliminated, and the value None will no longer be accepted. Set `keepdims` to True or False to avoid this warning.\n",
      "  ys.append(scipy.stats.mode(labels)[0][0])\n"
     ]
    }
   ],
   "source": [
    "def create_dataset(X, y, time_steps=1, step=1):\n",
    "    Xs, ys = [], []\n",
    "    for i in range(0, len(X) - time_steps, step):\n",
    "        v = X.iloc[i:(i + time_steps)].values\n",
    "        labels = y.iloc[i: i + time_steps]\n",
    "        Xs.append(v)\n",
    "        ys.append(scipy.stats.mode(labels)[0][0])\n",
    "    return np.array(Xs), np.array(ys).reshape(-1, 1)\n",
    "\n",
    "TIME_STEPS = 1\n",
    "STEP = 1\n",
    "\n",
    "X_train, y_train = create_dataset(\n",
    "    # df[['x_skewness', 'y_skewness', 'z_skewness', 'x_kurtosis', 'y_kurtosis', 'z_kurtosis']],\n",
    "    df.drop(['tac'], axis=1), \n",
    "    df.tac,\n",
    "    TIME_STEPS,\n",
    "    STEP\n",
    ")\n",
    "\n",
    "\n",
    "X_test, y_test = create_dataset(\n",
    "    test_df.drop(['tac'], axis=1),\n",
    "    test_df.tac,\n",
    "    TIME_STEPS,\n",
    "    STEP\n",
    ")\n",
    "\n",
    "# X_train =  df[['x_skewness', 'y_skewness', 'z_skewness', 'x_kurtosis', 'y_kurtosis', 'z_kurtosis']]\n",
    "# y_train = df.tac"
   ]
  },
  {
   "cell_type": "code",
   "execution_count": 123,
   "metadata": {},
   "outputs": [
    {
     "name": "stderr",
     "output_type": "stream",
     "text": [
      "/Users/sarah_prakriti_peters/miniconda3/envs/DL/lib/python3.10/site-packages/sklearn/preprocessing/_encoders.py:868: FutureWarning: `sparse` was renamed to `sparse_output` in version 1.2 and will be removed in 1.4. `sparse_output` is ignored unless you leave `sparse` to its default value.\n",
      "  warnings.warn(\n"
     ]
    }
   ],
   "source": [
    "enc = OneHotEncoder(handle_unknown='ignore', sparse=False)\n",
    "\n",
    "enc = enc.fit(y_train)\n",
    "\n",
    "y_train = enc.transform(y_train)\n",
    "y_test = enc.transform(y_test)"
   ]
  },
  {
   "cell_type": "code",
   "execution_count": 124,
   "metadata": {},
   "outputs": [
    {
     "data": {
      "text/plain": [
       "((6215, 1, 88), (6215, 2), (4489, 1, 88), (4489, 2))"
      ]
     },
     "execution_count": 124,
     "metadata": {},
     "output_type": "execute_result"
    }
   ],
   "source": [
    "X_train.shape, y_train.shape, X_test.shape, y_test.shape"
   ]
  },
  {
   "cell_type": "code",
   "execution_count": 125,
   "metadata": {},
   "outputs": [],
   "source": [
    "model = keras.Sequential()\n",
    "model.add(\n",
    "    keras.layers.Bidirectional(\n",
    "      keras.layers.LSTM(\n",
    "          units=256,\n",
    "          input_shape=[X_train.shape[1], X_train.shape[2]]\n",
    "      )\n",
    "    )\n",
    ")\n",
    "model.add(keras.layers.Dropout(rate=0.5))\n",
    "model.add(keras.layers.Dense(units=128, activation='relu'))\n",
    "model.add(keras.layers.Dense(y_train.shape[1], activation='sigmoid'))\n",
    "\n",
    "model.compile(\n",
    "  loss='binary_crossentropy',\n",
    "  optimizer='adam',\n",
    "  metrics=['acc']\n",
    ")\n"
   ]
  },
  {
   "cell_type": "code",
   "execution_count": 126,
   "metadata": {},
   "outputs": [
    {
     "name": "stdout",
     "output_type": "stream",
     "text": [
      "Epoch 1/20\n",
      "193/193 [==============================] - 4s 9ms/step - loss: 0.5036 - acc: 0.8280 - val_loss: 3.9208 - val_acc: 0.0000e+00\n",
      "Epoch 2/20\n",
      "193/193 [==============================] - 1s 5ms/step - loss: 0.4669 - acc: 0.8430 - val_loss: 4.1359 - val_acc: 0.0000e+00\n",
      "Epoch 3/20\n",
      "193/193 [==============================] - 1s 5ms/step - loss: 0.4722 - acc: 0.8711 - val_loss: 3.7827 - val_acc: 0.0000e+00\n",
      "Epoch 4/20\n",
      "193/193 [==============================] - 1s 5ms/step - loss: 0.4511 - acc: 0.8617 - val_loss: 3.8135 - val_acc: 0.0000e+00\n",
      "Epoch 5/20\n",
      "193/193 [==============================] - 1s 5ms/step - loss: 0.4898 - acc: 0.8201 - val_loss: 4.5379 - val_acc: 0.0000e+00\n",
      "Epoch 6/20\n",
      "193/193 [==============================] - 1s 5ms/step - loss: 0.5370 - acc: 0.8230 - val_loss: 5.3564 - val_acc: 0.0000e+00\n",
      "Epoch 7/20\n",
      "193/193 [==============================] - 1s 4ms/step - loss: 0.5799 - acc: 0.8453 - val_loss: 5.0480 - val_acc: 0.0000e+00\n",
      "Epoch 8/20\n",
      "193/193 [==============================] - 1s 4ms/step - loss: 0.5621 - acc: 0.8092 - val_loss: 5.3183 - val_acc: 0.0000e+00\n",
      "Epoch 9/20\n",
      "193/193 [==============================] - 1s 4ms/step - loss: 0.5573 - acc: 0.7954 - val_loss: 5.4681 - val_acc: 0.0000e+00\n",
      "Epoch 10/20\n",
      "193/193 [==============================] - 1s 4ms/step - loss: 0.5653 - acc: 0.7874 - val_loss: 5.1962 - val_acc: 0.0000e+00\n",
      "Epoch 11/20\n",
      "193/193 [==============================] - 1s 4ms/step - loss: 0.5396 - acc: 0.8175 - val_loss: 5.2525 - val_acc: 0.0000e+00\n",
      "Epoch 12/20\n",
      "193/193 [==============================] - 1s 4ms/step - loss: 0.5579 - acc: 0.8032 - val_loss: 4.0192 - val_acc: 0.0000e+00\n",
      "Epoch 13/20\n",
      "193/193 [==============================] - 1s 4ms/step - loss: 0.4878 - acc: 0.8451 - val_loss: 4.7445 - val_acc: 0.0000e+00\n",
      "Epoch 14/20\n",
      "193/193 [==============================] - 1s 4ms/step - loss: 0.5403 - acc: 0.7962 - val_loss: 4.8546 - val_acc: 0.0000e+00\n",
      "Epoch 15/20\n",
      "193/193 [==============================] - 1s 4ms/step - loss: 0.5806 - acc: 0.7854 - val_loss: 6.1060 - val_acc: 0.0000e+00\n",
      "Epoch 16/20\n",
      "193/193 [==============================] - 1s 4ms/step - loss: 0.5857 - acc: 0.8548 - val_loss: 3.5104 - val_acc: 0.0000e+00\n",
      "Epoch 17/20\n",
      "193/193 [==============================] - 1s 4ms/step - loss: 0.5125 - acc: 0.8238 - val_loss: 4.8673 - val_acc: 0.0000e+00\n",
      "Epoch 18/20\n",
      "193/193 [==============================] - 1s 4ms/step - loss: 0.5893 - acc: 0.8565 - val_loss: 4.8206 - val_acc: 0.0000e+00\n",
      "Epoch 19/20\n",
      "193/193 [==============================] - 1s 4ms/step - loss: 0.5437 - acc: 0.8565 - val_loss: 3.1788 - val_acc: 0.0000e+00\n",
      "Epoch 20/20\n",
      "193/193 [==============================] - 1s 4ms/step - loss: 0.5080 - acc: 0.8602 - val_loss: 4.6713 - val_acc: 0.0000e+00\n"
     ]
    }
   ],
   "source": [
    "history = model.fit(\n",
    "    X_train, y_train,\n",
    "    epochs=20,\n",
    "    batch_size=32, \n",
    "    validation_split=0.01,\n",
    "    shuffle=False) "
   ]
  },
  {
   "cell_type": "code",
   "execution_count": 127,
   "metadata": {},
   "outputs": [],
   "source": [
    "# df[df['tac']==1].count(), df[df['tac']==0].count()"
   ]
  },
  {
   "cell_type": "code",
   "execution_count": 129,
   "metadata": {},
   "outputs": [
    {
     "name": "stdout",
     "output_type": "stream",
     "text": [
      "141/141 [==============================] - 0s 1ms/step - loss: 1.3380 - acc: 0.7160\n"
     ]
    },
    {
     "data": {
      "text/plain": [
       "[1.3380383253097534, 0.715972363948822]"
      ]
     },
     "execution_count": 129,
     "metadata": {},
     "output_type": "execute_result"
    }
   ],
   "source": [
    "model.evaluate(X_test, y_test, verbose=1) "
   ]
  },
  {
   "cell_type": "code",
   "execution_count": null,
   "metadata": {},
   "outputs": [],
   "source": [
    "# model.save(\"bidirectional_lstm.h5\")"
   ]
  },
  {
   "cell_type": "code",
   "execution_count": null,
   "metadata": {},
   "outputs": [],
   "source": [
    "model = keras.Sequential()\n",
    "model.add(\n",
    "    keras.layers.Bidirectional(\n",
    "      keras.layers.LSTM(\n",
    "          units=256,\n",
    "          input_shape=[X_train.shape[1], X_train.shape[2]]\n",
    "      )\n",
    "    )\n",
    ")\n",
    "model.add(keras.layers.Dropout(rate=0.5))\n",
    "model.add(keras.layers.Dense(units=128, activation='relu'))\n",
    "model.add(keras.layers.Dense(y_train.shape[1], activation='sigmoid'))\n",
    "\n",
    "model.compile(\n",
    "  loss='binary_crossentropy',\n",
    "  optimizer=keras.optimizers.Adam(0.01),\n",
    "  metrics=['acc']\n",
    ")\n",
    "\n",
    "\n",
    "history = model.fit(\n",
    "    X_train, y_train,\n",
    "    epochs=20,\n",
    "    batch_size=32, \n",
    "    validation_split=0.01,\n",
    "    shuffle=False) \n"
   ]
  },
  {
   "cell_type": "code",
   "execution_count": null,
   "metadata": {},
   "outputs": [],
   "source": [
    "model.evaluate(X_train, y_train)"
   ]
  },
  {
   "cell_type": "markdown",
   "metadata": {},
   "source": [
    "## MLP Classifier"
   ]
  },
  {
   "cell_type": "code",
   "execution_count": null,
   "metadata": {},
   "outputs": [],
   "source": [
    "from sklearn.neural_network import MLPClassifier\n",
    "from sklearn.metrics import accuracy_score\n",
    "clf = MLPClassifier(solver='adam', shuffle=True, random_state=1)"
   ]
  },
  {
   "cell_type": "code",
   "execution_count": null,
   "metadata": {},
   "outputs": [],
   "source": [
    "X_train.shape"
   ]
  },
  {
   "cell_type": "code",
   "execution_count": null,
   "metadata": {},
   "outputs": [],
   "source": [
    "clf.fit(np.reshape(X_train, (224, 120)), y_train)\n",
    "clf.get_params() "
   ]
  },
  {
   "cell_type": "code",
   "execution_count": null,
   "metadata": {},
   "outputs": [],
   "source": [
    "print('Accuracy ', accuracy_score(y_train, clf.predict(np.reshape(X_train, (224, 120)))))"
   ]
  },
  {
   "cell_type": "markdown",
   "metadata": {},
   "source": [
    "## CNN "
   ]
  },
  {
   "cell_type": "code",
   "execution_count": null,
   "metadata": {},
   "outputs": [],
   "source": [
    "batch_size = 256\n",
    "epochs = 20\n",
    "\n",
    "flatten = keras.layers.Flatten()\n",
    "conv_layer1 = keras.layers.Conv1D(filters = 64, kernel_size = 3, padding='SAME')\n",
    "conv_layer2 = keras.layers.Conv1D(filters = 64, kernel_size = 3, padding='SAME')\n",
    "dropout = keras.layers.Dropout(0.5)\n",
    "max_pooling = keras.layers.MaxPool1D(pool_size=2)\n",
    "fc_layer = keras.layers.Dense(units=128, activation = 'relu')\n",
    "fc_layer2 = keras.layers.Dense(y_train.shape[1], activation = 'sigmoid')\n",
    "base_model = keras.Sequential([\n",
    "                                  conv_layer1,  \n",
    "                                  conv_layer2, \n",
    "                                  dropout, \n",
    "                                  max_pooling, \n",
    "                                  flatten, \n",
    "                                  fc_layer, \n",
    "                                  fc_layer2\n",
    "                                ])\n",
    "\n",
    "base_model.compile(loss='binary_crossentropy', \n",
    "                   optimizer='adam',\n",
    "                   metrics=['acc']) "
   ]
  },
  {
   "cell_type": "code",
   "execution_count": null,
   "metadata": {},
   "outputs": [],
   "source": [
    "history = base_model.fit(\n",
    "    X_train, y_train,\n",
    "    epochs=20,\n",
    "    batch_size=32, \n",
    "    validation_split=0.01,\n",
    "    shuffle=False) "
   ]
  },
  {
   "cell_type": "code",
   "execution_count": null,
   "metadata": {},
   "outputs": [],
   "source": [
    "base_model.evaluate(X_test, y_test)"
   ]
  }
 ],
 "metadata": {
  "kernelspec": {
   "display_name": "DL",
   "language": "python",
   "name": "python3"
  },
  "language_info": {
   "codemirror_mode": {
    "name": "ipython",
    "version": 3
   },
   "file_extension": ".py",
   "mimetype": "text/x-python",
   "name": "python",
   "nbconvert_exporter": "python",
   "pygments_lexer": "ipython3",
   "version": "3.10.10"
  },
  "orig_nbformat": 4
 },
 "nbformat": 4,
 "nbformat_minor": 2
}
